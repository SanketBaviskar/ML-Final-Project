{
  "cells": [
    {
      "cell_type": "code",
      "execution_count": 7,
      "metadata": {
        "id": "zGCk-IVavVD9"
      },
      "outputs": [],
      "source": [
        "import pandas as pd\n",
        "import numpy as np\n",
        "from sklearn.preprocessing import MinMaxScaler\n",
        "from sklearn.model_selection import train_test_split\n",
        "from keras.models import Sequential\n",
        "from keras.layers import LSTM, Dense, Dropout\n",
        "\n",
        "# Load data\n",
        "stores = pd.read_csv('stores.csv')\n",
        "train = pd.read_csv('train.csv')\n",
        "features = pd.read_csv('features.csv')"
      ]
    },
    {
      "cell_type": "code",
      "execution_count": 8,
      "metadata": {
        "id": "DcOTnAvuvVEU"
      },
      "outputs": [],
      "source": [
        "# Merge datasets\n",
        "data = pd.merge(train, stores, how='left', on='Store')\n",
        "data = pd.merge(data, features, how='left', on=['Store', 'Date'])\n",
        "\n",
        "# Data preprocessing\n",
        "data['Date'] = pd.to_datetime(data['Date'])\n",
        "data = data.sort_values(by='Date')\n",
        "data = data.fillna(0)  # Fill missing values with 0 for simplicity\n"
      ]
    },
    {
      "cell_type": "code",
      "execution_count": 9,
      "metadata": {
        "id": "_YM3W6Y8vVEZ"
      },
      "outputs": [],
      "source": [
        "# Feature engineering\n",
        "# Add lag features for weekly sales\n",
        "#data['Lag_1_Weekly_Sales'] = data.groupby(['Store', 'Dept'])['Weekly_Sales'].shift(1)\n",
        "#data['Lag_2_Weekly_Sales'] = data.groupby(['Store', 'Dept'])['Weekly_Sales'].shift(2)\n"
      ]
    },
    {
      "cell_type": "code",
      "execution_count": 10,
      "metadata": {
        "id": "WlouXHauvVEc"
      },
      "outputs": [],
      "source": [
        "# Normalization\n",
        "scaler = MinMaxScaler()\n",
        "data[['Temperature', 'Fuel_Price',\n",
        "      'MarkDown1', 'MarkDown2', 'MarkDown3', 'MarkDown4', 'MarkDown5', 'CPI', 'Unemployment']] = \\\n",
        "    scaler.fit_transform(data[[\n",
        "                               'Temperature', 'Fuel_Price', 'MarkDown1', 'MarkDown2', 'MarkDown3',\n",
        "                               'MarkDown4', 'MarkDown5', 'CPI', 'Unemployment']])\n",
        "\n"
      ]
    },
    {
      "cell_type": "code",
      "execution_count": 11,
      "metadata": {
        "id": "eLgnUV9u8JRj"
      },
      "outputs": [],
      "source": [
        "#scaler = MinMaxScaler()\n",
        "#data[['Weekly_Sales', 'Lag_1_Weekly_Sales', 'Lag_2_Weekly_Sales', 'Temperature', 'Fuel_Price',\n",
        "#      'MarkDown1', 'MarkDown2', 'MarkDown3', 'MarkDown4', 'MarkDown5', 'CPI', 'Unemployment']] = \\\n",
        "#   scaler.fit_transform(data[['Weekly_Sales', 'Lag_1_Weekly_Sales', 'Lag_2_Weekly_Sales',\n",
        "#                               'Temperature', 'Fuel_Price', 'MarkDown1', 'MarkDown2', 'MarkDown3',\n",
        "#                               'MarkDown4', 'MarkDown5', 'CPI', 'Unemployment']])\n"
      ]
    },
    {
      "cell_type": "code",
      "execution_count": 12,
      "metadata": {
        "id": "BpV6uuXf3RMq"
      },
      "outputs": [],
      "source": [
        "data=data.fillna(0)\n",
        "data.head()\n",
        "data['Date'] = data['Date'].dt.day"
      ]
    },
    {
      "cell_type": "code",
      "execution_count": 13,
      "metadata": {
        "id": "EQapMTIG4Kg-"
      },
      "outputs": [],
      "source": [
        "categorical_columns = ['IsHoliday_x', 'Type', 'IsHoliday_y']\n",
        "data[categorical_columns] = data[categorical_columns].astype('category').apply(lambda x: x.cat.codes)"
      ]
    },
    {
      "cell_type": "code",
      "execution_count": 14,
      "metadata": {
        "colab": {
          "base_uri": "https://localhost:8080/",
          "height": 226
        },
        "id": "JoSFa7Zs4y9C",
        "outputId": "1071c6ed-cad2-4fb6-936f-04dcf425bd19"
      },
      "outputs": [
        {
          "data": {
            "text/html": [
              "<div>\n",
              "<style scoped>\n",
              "    .dataframe tbody tr th:only-of-type {\n",
              "        vertical-align: middle;\n",
              "    }\n",
              "\n",
              "    .dataframe tbody tr th {\n",
              "        vertical-align: top;\n",
              "    }\n",
              "\n",
              "    .dataframe thead th {\n",
              "        text-align: right;\n",
              "    }\n",
              "</style>\n",
              "<table border=\"1\" class=\"dataframe\">\n",
              "  <thead>\n",
              "    <tr style=\"text-align: right;\">\n",
              "      <th></th>\n",
              "      <th>Store</th>\n",
              "      <th>Dept</th>\n",
              "      <th>Date</th>\n",
              "      <th>Weekly_Sales</th>\n",
              "      <th>IsHoliday_x</th>\n",
              "      <th>Type</th>\n",
              "      <th>Size</th>\n",
              "      <th>Temperature</th>\n",
              "      <th>Fuel_Price</th>\n",
              "      <th>MarkDown1</th>\n",
              "      <th>MarkDown2</th>\n",
              "      <th>MarkDown3</th>\n",
              "      <th>MarkDown4</th>\n",
              "      <th>MarkDown5</th>\n",
              "      <th>CPI</th>\n",
              "      <th>Unemployment</th>\n",
              "      <th>IsHoliday_y</th>\n",
              "    </tr>\n",
              "  </thead>\n",
              "  <tbody>\n",
              "    <tr>\n",
              "      <th>0</th>\n",
              "      <td>1</td>\n",
              "      <td>1</td>\n",
              "      <td>5</td>\n",
              "      <td>24924.50</td>\n",
              "      <td>0</td>\n",
              "      <td>0</td>\n",
              "      <td>151315</td>\n",
              "      <td>0.434149</td>\n",
              "      <td>0.050100</td>\n",
              "      <td>0.0</td>\n",
              "      <td>0.002536</td>\n",
              "      <td>0.000205</td>\n",
              "      <td>0.0</td>\n",
              "      <td>0.0</td>\n",
              "      <td>0.840500</td>\n",
              "      <td>0.405118</td>\n",
              "      <td>0</td>\n",
              "    </tr>\n",
              "    <tr>\n",
              "      <th>277665</th>\n",
              "      <td>29</td>\n",
              "      <td>5</td>\n",
              "      <td>5</td>\n",
              "      <td>15552.08</td>\n",
              "      <td>0</td>\n",
              "      <td>1</td>\n",
              "      <td>93638</td>\n",
              "      <td>0.258513</td>\n",
              "      <td>0.158317</td>\n",
              "      <td>0.0</td>\n",
              "      <td>0.002536</td>\n",
              "      <td>0.000205</td>\n",
              "      <td>0.0</td>\n",
              "      <td>0.0</td>\n",
              "      <td>0.054008</td>\n",
              "      <td>0.592774</td>\n",
              "      <td>0</td>\n",
              "    </tr>\n",
              "    <tr>\n",
              "      <th>277808</th>\n",
              "      <td>29</td>\n",
              "      <td>6</td>\n",
              "      <td>5</td>\n",
              "      <td>3200.22</td>\n",
              "      <td>0</td>\n",
              "      <td>1</td>\n",
              "      <td>93638</td>\n",
              "      <td>0.258513</td>\n",
              "      <td>0.158317</td>\n",
              "      <td>0.0</td>\n",
              "      <td>0.002536</td>\n",
              "      <td>0.000205</td>\n",
              "      <td>0.0</td>\n",
              "      <td>0.0</td>\n",
              "      <td>0.054008</td>\n",
              "      <td>0.592774</td>\n",
              "      <td>0</td>\n",
              "    </tr>\n",
              "    <tr>\n",
              "      <th>277951</th>\n",
              "      <td>29</td>\n",
              "      <td>7</td>\n",
              "      <td>5</td>\n",
              "      <td>10820.05</td>\n",
              "      <td>0</td>\n",
              "      <td>1</td>\n",
              "      <td>93638</td>\n",
              "      <td>0.258513</td>\n",
              "      <td>0.158317</td>\n",
              "      <td>0.0</td>\n",
              "      <td>0.002536</td>\n",
              "      <td>0.000205</td>\n",
              "      <td>0.0</td>\n",
              "      <td>0.0</td>\n",
              "      <td>0.054008</td>\n",
              "      <td>0.592774</td>\n",
              "      <td>0</td>\n",
              "    </tr>\n",
              "    <tr>\n",
              "      <th>278094</th>\n",
              "      <td>29</td>\n",
              "      <td>8</td>\n",
              "      <td>5</td>\n",
              "      <td>20055.64</td>\n",
              "      <td>0</td>\n",
              "      <td>1</td>\n",
              "      <td>93638</td>\n",
              "      <td>0.258513</td>\n",
              "      <td>0.158317</td>\n",
              "      <td>0.0</td>\n",
              "      <td>0.002536</td>\n",
              "      <td>0.000205</td>\n",
              "      <td>0.0</td>\n",
              "      <td>0.0</td>\n",
              "      <td>0.054008</td>\n",
              "      <td>0.592774</td>\n",
              "      <td>0</td>\n",
              "    </tr>\n",
              "  </tbody>\n",
              "</table>\n",
              "</div>"
            ],
            "text/plain": [
              "        Store  Dept  Date  Weekly_Sales  IsHoliday_x  Type    Size  \\\n",
              "0           1     1     5      24924.50            0     0  151315   \n",
              "277665     29     5     5      15552.08            0     1   93638   \n",
              "277808     29     6     5       3200.22            0     1   93638   \n",
              "277951     29     7     5      10820.05            0     1   93638   \n",
              "278094     29     8     5      20055.64            0     1   93638   \n",
              "\n",
              "        Temperature  Fuel_Price  MarkDown1  MarkDown2  MarkDown3  MarkDown4  \\\n",
              "0          0.434149    0.050100        0.0   0.002536   0.000205        0.0   \n",
              "277665     0.258513    0.158317        0.0   0.002536   0.000205        0.0   \n",
              "277808     0.258513    0.158317        0.0   0.002536   0.000205        0.0   \n",
              "277951     0.258513    0.158317        0.0   0.002536   0.000205        0.0   \n",
              "278094     0.258513    0.158317        0.0   0.002536   0.000205        0.0   \n",
              "\n",
              "        MarkDown5       CPI  Unemployment  IsHoliday_y  \n",
              "0             0.0  0.840500      0.405118            0  \n",
              "277665        0.0  0.054008      0.592774            0  \n",
              "277808        0.0  0.054008      0.592774            0  \n",
              "277951        0.0  0.054008      0.592774            0  \n",
              "278094        0.0  0.054008      0.592774            0  "
            ]
          },
          "execution_count": 14,
          "metadata": {},
          "output_type": "execute_result"
        }
      ],
      "source": [
        "data.head()"
      ]
    },
    {
      "cell_type": "code",
      "execution_count": 15,
      "metadata": {
        "id": "TrgDxquJvVEf"
      },
      "outputs": [],
      "source": [
        "# Sequence preparation\n",
        "X = data[['Temperature', 'Fuel_Price',\n",
        "           'MarkDown1', 'MarkDown2', 'MarkDown3', 'MarkDown4', 'MarkDown5', 'CPI', 'Unemployment']].values\n",
        "y = data['Weekly_Sales'].values\n",
        "\n",
        "X = X.reshape(X.shape[0], 1, X.shape[1])\n"
      ]
    },
    {
      "cell_type": "code",
      "execution_count": 16,
      "metadata": {
        "colab": {
          "base_uri": "https://localhost:8080/"
        },
        "id": "dc-Z3ygY3I-V",
        "outputId": "28598aca-2440-4f20-8774-9f27a2656b47"
      },
      "outputs": [
        {
          "data": {
            "text/plain": [
              "array([24924.5 , 15552.08,  3200.22, ...,  3128.17,  5740.14,  1076.8 ])"
            ]
          },
          "execution_count": 16,
          "metadata": {},
          "output_type": "execute_result"
        }
      ],
      "source": [
        "y"
      ]
    },
    {
      "cell_type": "code",
      "execution_count": 17,
      "metadata": {
        "id": "cYpDIivuvVEi"
      },
      "outputs": [],
      "source": [
        "# Split into training and validation sets\n",
        "X_train, X_val, y_train, y_val = train_test_split(X, y, test_size=0.2, random_state=42)\n",
        "\n",
        "# Build LSTM model\n",
        "model = Sequential()\n",
        "model.add(LSTM(units=50, return_sequences=True, input_shape=(X_train.shape[1], X_train.shape[2])))\n",
        "model.add(Dropout(0.2))\n",
        "model.add(LSTM(units=50, return_sequences=True))\n",
        "model.add(Dropout(0.2))\n",
        "model.add(LSTM(units=50))\n",
        "model.add(Dropout(0.2))\n",
        "model.add(Dense(units=1))\n",
        "model.compile(optimizer='adam', loss='mean_squared_error')\n"
      ]
    },
    {
      "cell_type": "code",
      "execution_count": 18,
      "metadata": {
        "colab": {
          "base_uri": "https://localhost:8080/"
        },
        "id": "9uMmmLVCvVEk",
        "outputId": "5ddc5473-3909-42cd-a017-7c5799550fe1"
      },
      "outputs": [
        {
          "name": "stdout",
          "output_type": "stream",
          "text": [
            "10540/10540 [==============================] - 40s 3ms/step - loss: 763158528.0000 - val_loss: 763830976.0000\n"
          ]
        },
        {
          "data": {
            "text/plain": [
              "<keras.src.callbacks.History at 0x21833c6f950>"
            ]
          },
          "execution_count": 18,
          "metadata": {},
          "output_type": "execute_result"
        }
      ],
      "source": [
        "# Train the model\n",
        "model.fit(X_train, y_train, epochs=1, batch_size=32, validation_data=(X_val, y_val))\n"
      ]
    },
    {
      "cell_type": "code",
      "execution_count": 19,
      "metadata": {
        "id": "GE0CNyCsvVEt"
      },
      "outputs": [],
      "source": [
        "# ... (previous code)\n",
        "\n",
        "# Load the test data\n",
        "test_data = pd.read_csv('test.csv')\n",
        "# Make predictions on the test dataset\n",
        "test_data = pd.merge(test_data, stores, how='left', on='Store')\n",
        "test_data = pd.merge(test_data, features, how='left', on=['Store', 'Date'])\n",
        "test_data['Date'] = pd.to_datetime(test_data['Date'])\n",
        "test_data = test_data.sort_values(by='Date')\n",
        "test_data = test_data.fillna(0)\n",
        "\n",
        "\n",
        "\n",
        "test_data[['Temperature', 'Fuel_Price',\n",
        "           'MarkDown1', 'MarkDown2', 'MarkDown3', 'MarkDown4', 'MarkDown5', 'CPI', 'Unemployment']] = \\\n",
        "    scaler.fit_transform(test_data[[\n",
        "                                'Temperature', 'Fuel_Price', 'MarkDown1', 'MarkDown2', 'MarkDown3',\n",
        "                                'MarkDown4', 'MarkDown5', 'CPI', 'Unemployment']])\n",
        "\n",
        "\n",
        "\n"
      ]
    },
    {
      "cell_type": "code",
      "execution_count": 20,
      "metadata": {
        "id": "DskgU5uh_Juk"
      },
      "outputs": [],
      "source": [
        "\n",
        "test_data=test_data.fillna(0)\n",
        "test_data.head()\n",
        "test_data['Date'] = test_data['Date'].dt.day"
      ]
    },
    {
      "cell_type": "code",
      "execution_count": 21,
      "metadata": {
        "id": "StFOWKD__f3L"
      },
      "outputs": [],
      "source": [
        "categorical_columns = ['IsHoliday_x', 'Type', 'IsHoliday_y']\n",
        "test_data[categorical_columns] = test_data[categorical_columns].astype('category').apply(lambda x: x.cat.codes)"
      ]
    },
    {
      "cell_type": "code",
      "execution_count": 22,
      "metadata": {
        "colab": {
          "base_uri": "https://localhost:8080/"
        },
        "id": "c9XdDFmz6pQt",
        "outputId": "b55e6d15-abec-41a8-f55a-6447ea6798ee"
      },
      "outputs": [
        {
          "data": {
            "text/plain": [
              "array([0.])"
            ]
          },
          "execution_count": 22,
          "metadata": {},
          "output_type": "execute_result"
        }
      ],
      "source": [
        "test_data['Temperature'].unique()"
      ]
    },
    {
      "cell_type": "code",
      "execution_count": 23,
      "metadata": {
        "id": "BTWXisTy5-EF"
      },
      "outputs": [],
      "source": [
        "X_test = test_data[['Temperature', 'Fuel_Price',\n",
        "           'MarkDown1', 'MarkDown2', 'MarkDown3', 'MarkDown4', 'MarkDown5', 'CPI', 'Unemployment']].values\n",
        "\n",
        "X_test = X_test.reshape(X_test.shape[0], 1, X_test.shape[1])\n"
      ]
    },
    {
      "cell_type": "code",
      "execution_count": 24,
      "metadata": {
        "colab": {
          "base_uri": "https://localhost:8080/"
        },
        "id": "AMObcks9vVEw",
        "outputId": "fefb9466-2157-41b1-8d43-7b6955430b1e"
      },
      "outputs": [
        {
          "name": "stdout",
          "output_type": "stream",
          "text": [
            "3596/3596 [==============================] - 5s 1ms/step\n"
          ]
        }
      ],
      "source": [
        "predictions = model.predict(X_test)\n",
        "\n",
        "# Reshape predictions and apply inverse_transform\n",
        "predictions = predictions.reshape(-1, 1)\n"
      ]
    },
    {
      "cell_type": "code",
      "execution_count": 25,
      "metadata": {
        "colab": {
          "base_uri": "https://localhost:8080/"
        },
        "id": "ZRusBXEaC90E",
        "outputId": "5f3db6a2-8e5d-4c58-991e-dc394ddc0f6a"
      },
      "outputs": [
        {
          "data": {
            "text/plain": [
              "array([[[0., 0., 0., ..., 0., 0., 0.]],\n",
              "\n",
              "       [[0., 0., 0., ..., 0., 0., 0.]],\n",
              "\n",
              "       [[0., 0., 0., ..., 0., 0., 0.]],\n",
              "\n",
              "       ...,\n",
              "\n",
              "       [[0., 0., 0., ..., 0., 0., 0.]],\n",
              "\n",
              "       [[0., 0., 0., ..., 0., 0., 0.]],\n",
              "\n",
              "       [[0., 0., 0., ..., 0., 0., 0.]]])"
            ]
          },
          "execution_count": 25,
          "metadata": {},
          "output_type": "execute_result"
        }
      ],
      "source": [
        "X_test"
      ]
    }
  ],
  "metadata": {
    "colab": {
      "provenance": []
    },
    "kernelspec": {
      "display_name": "Python 3",
      "language": "python",
      "name": "python3"
    },
    "language_info": {
      "codemirror_mode": {
        "name": "ipython",
        "version": 3
      },
      "file_extension": ".py",
      "mimetype": "text/x-python",
      "name": "python",
      "nbconvert_exporter": "python",
      "pygments_lexer": "ipython3",
      "version": "3.11.5"
    }
  },
  "nbformat": 4,
  "nbformat_minor": 0
}
